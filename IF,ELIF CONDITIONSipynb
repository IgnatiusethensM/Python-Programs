{
 "cells": [
  {
   "cell_type": "code",
   "execution_count": 17,
   "id": "b725cfb5-eb13-4683-af36-d4a2c5a054e9",
   "metadata": {},
   "outputs": [
    {
     "data": {
      "text/plain": [
       "'Fever'"
      ]
     },
     "execution_count": 17,
     "metadata": {},
     "output_type": "execute_result"
    }
   ],
   "source": [
    "def temperature(temp) :\n",
    "    if temp > 38:\n",
    "        message = \"Fever\"\n",
    "    elif temp > 35:\n",
    "        message = \"Normal Temperature\"\n",
    "    else:\n",
    "        message = \"Low temperature\"\n",
    "    return message\n",
    "\n",
    "temperature(40)\n",
    "\n",
    "\n"
   ]
  },
  {
   "cell_type": "code",
   "execution_count": null,
   "id": "91651d07-e83b-43d3-abb7-c06e0877bd01",
   "metadata": {},
   "outputs": [],
   "source": []
  }
 ],
 "metadata": {
  "kernelspec": {
   "display_name": "Python 3 (ipykernel)",
   "language": "python",
   "name": "python3"
  },
  "language_info": {
   "codemirror_mode": {
    "name": "ipython",
    "version": 3
   },
   "file_extension": ".py",
   "mimetype": "text/x-python",
   "name": "python",
   "nbconvert_exporter": "python",
   "pygments_lexer": "ipython3",
   "version": "3.11.5"
  }
 },
 "nbformat": 4,
 "nbformat_minor": 5
}
