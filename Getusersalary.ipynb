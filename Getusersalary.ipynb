{
 "cells": [
  {
   "cell_type": "code",
   "execution_count": 2,
   "id": "e8ae46e6-fd61-47c0-ae04-e75fcced0d05",
   "metadata": {},
   "outputs": [],
   "source": [
    "def get_pay(num_hrs) :\n",
    "    pre_tax_pay= num_hrs * 15\n",
    "    after_tax_pay = pre_tax_pay * (1 - .12 )\n",
    "    return after_tax_pay\n",
    "\n"
   ]
  },
  {
   "cell_type": "code",
   "execution_count": 18,
   "id": "3b446b11-aac1-4a3e-981a-68b800f98f5e",
   "metadata": {},
   "outputs": [
    {
     "name": "stdin",
     "output_type": "stream",
     "text": [
      "Enter the number of hours you work per week: 40\n"
     ]
    },
    {
     "name": "stdout",
     "output_type": "stream",
     "text": [
      "528.0\n"
     ]
    }
   ],
   "source": [
    "user_input= int(input(\"Enter the number of hours you work per week:\" ))\n",
    "salary = get_pay(user_input)              \n",
    "print (salary)\n"
   ]
  },
  {
   "cell_type": "code",
   "execution_count": null,
   "id": "722cd7dd-74a4-4560-bc4a-8a468ec70471",
   "metadata": {},
   "outputs": [],
   "source": []
  }
 ],
 "metadata": {
  "kernelspec": {
   "display_name": "Python 3 (ipykernel)",
   "language": "python",
   "name": "python3"
  },
  "language_info": {
   "codemirror_mode": {
    "name": "ipython",
    "version": 3
   },
   "file_extension": ".py",
   "mimetype": "text/x-python",
   "name": "python",
   "nbconvert_exporter": "python",
   "pygments_lexer": "ipython3",
   "version": "3.11.5"
  }
 },
 "nbformat": 4,
 "nbformat_minor": 5
}
